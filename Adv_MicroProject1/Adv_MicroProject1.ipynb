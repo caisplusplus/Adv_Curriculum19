{
 "cells": [
  {
   "cell_type": "code",
   "execution_count": null,
   "metadata": {},
   "outputs": [],
   "source": [
    "# In this micro-project, we'll practice using Jupyter Notebook on the server to design a CNN for\n",
    "# MNIST image classification and train it using the GPUs.\n",
    "\n",
    "# Imports various libraries (note that we are using tf.Keras, not vanilla Keras).\n",
    "from tensorflow import keras\n",
    "from tensorflow.keras.datasets import mnist\n",
    "import tensorflow.keras.backend as K\n",
    "import matplotlib.pyplot as plt"
   ]
  },
  {
   "cell_type": "code",
   "execution_count": null,
   "metadata": {},
   "outputs": [],
   "source": [
    "# Loads the MNIST dataset.\n",
    "(x_train, y_train), (x_test, y_test) = mnist.load_data()"
   ]
  },
  {
   "cell_type": "code",
   "execution_count": null,
   "metadata": {},
   "outputs": [],
   "source": [
    "# Plots an MNIST digit.\n",
    "plt.title(\"Label is {}\".format(y_train[0]))\n",
    "plt.imshow(x_train[0], cmap=\"gray\")"
   ]
  },
  {
   "cell_type": "code",
   "execution_count": null,
   "metadata": {},
   "outputs": [],
   "source": [
    "# Preprocesses images.\n",
    "print(x_train.shape, x_test.shape)\n",
    "\n",
    "# Adds an extra dimension to the image tensor.\n",
    "# This represents the \"channels\" of the image.\n",
    "# BW images have one channel; RGB images have three.\n",
    "x_train = x_train.reshape(60000, 28, 28, 1)\n",
    "x_test = x_test.reshape(10000, 28, 28, 1)\n",
    "\n",
    "# Converts the tensors from uint8 to float32.\n",
    "# Most CNNs expect inputs of type float32.\n",
    "x_train = x_train.astype(\"float32\")\n",
    "x_test = x_test.astype(\"float32\")\n",
    "\n",
    "# Scales values to be between 0 and 1.\n",
    "x_train /= 255\n",
    "x_test /= 255\n",
    "\n",
    "print(x_train.shape, x_test.shape)"
   ]
  },
  {
   "cell_type": "code",
   "execution_count": null,
   "metadata": {},
   "outputs": [],
   "source": [
    "# Preprocesses labels.\n",
    "print(y_train.shape, y_test.shape)\n",
    "\n",
    "# Converts labels from numbers (e.g., 7)\n",
    "# to one-hot vectors (e.g., [0, 0, 0, 0, 0, 0, 0, 1, 0, 0]).\n",
    "\n",
    "# Q: Why is this necessary?\n",
    "# A:\n",
    "\n",
    "y_train = keras.utils.to_categorical(y_train, num_classes=10)\n",
    "y_test = keras.utils.to_categorical(y_test, num_classes=10)\n",
    "\n",
    "print(y_train.shape, y_test.shape)"
   ]
  },
  {
   "cell_type": "code",
   "execution_count": null,
   "metadata": {},
   "outputs": [],
   "source": [
    "# Create a function which defines a CNN. Use the tf.Keras Functional API.\n",
    "# You'll need both convolutional and dense layers, as well as a softmax activation at the end.\n",
    "# (If you're stuck on the architecture, Slack me!)\n",
    "\n",
    "# Q: What shape is the input?\n",
    "# A:\n",
    "\n",
    "# Q: What shape is the output?\n",
    "# A:\n",
    "\n",
    "# Q: Why are we using softmax (as opposed to sigmoid)?\n",
    "# A:\n",
    "\n",
    "# Q: (Bonus) How is softmax calculated (in your own words)?\n",
    "# A:\n",
    "\n",
    "def cnn():\n",
    "    # Your architecture here!"
   ]
  },
  {
   "cell_type": "code",
   "execution_count": null,
   "metadata": {},
   "outputs": [],
   "source": [
    "# Instantiate your CNN, then compile it with the Adam optimizer, categorical crossentropy loss, and accuracy metric.\n",
    "\n",
    "# Q: Why are we using categorical crossentropy loss?\n",
    "# A:\n",
    "\n",
    "# Q: (Bonus) How is categorical crossentropy loss calculated (in your own words)?\n",
    "# A:\n",
    "\n",
    "# Your code here!"
   ]
  },
  {
   "cell_type": "code",
   "execution_count": null,
   "metadata": {},
   "outputs": [],
   "source": [
    "# Fit your model for 20 epochs using the GPUs.\n",
    "\n",
    "# Q: What batch size will you use? Why?\n",
    "# A:\n",
    "\n",
    "# Your code here!"
   ]
  },
  {
   "cell_type": "code",
   "execution_count": null,
   "metadata": {},
   "outputs": [],
   "source": [
    "# Evaluate your model on the test dataset.\n",
    "\n",
    "# Q: Why is it necessary to separate train and test datasets?\n",
    "# A:\n",
    "\n",
    "# Your code here!"
   ]
  }
 ],
 "metadata": {
  "kernelspec": {
   "display_name": "Python 3",
   "language": "python",
   "name": "python3"
  },
  "language_info": {
   "codemirror_mode": {
    "name": "ipython",
    "version": 3
   },
   "file_extension": ".py",
   "mimetype": "text/x-python",
   "name": "python",
   "nbconvert_exporter": "python",
   "pygments_lexer": "ipython3",
   "version": "3.7.4"
  }
 },
 "nbformat": 4,
 "nbformat_minor": 2
}
