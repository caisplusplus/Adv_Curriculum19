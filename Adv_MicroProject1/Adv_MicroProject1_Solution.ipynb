{
 "cells": [
  {
   "cell_type": "code",
   "execution_count": null,
   "metadata": {},
   "outputs": [],
   "source": [
    "# In this micro-project, we'll practice using Jupyter Notebook on the server to design a CNN for\n",
    "# MNIST image classification and train it using the GPUs.\n",
    "\n",
    "# Imports various libraries (note that we are using tf.Keras, not vanilla Keras).\n",
    "from tensorflow import keras\n",
    "from tensorflow.keras.datasets import mnist\n",
    "import tensorflow.keras.backend as K\n",
    "import matplotlib.pyplot as plt"
   ]
  },
  {
   "cell_type": "code",
   "execution_count": null,
   "metadata": {},
   "outputs": [],
   "source": [
    "# Loads the MNIST dataset.\n",
    "(x_train, y_train), (x_test, y_test) = mnist.load_data()"
   ]
  },
  {
   "cell_type": "code",
   "execution_count": null,
   "metadata": {},
   "outputs": [],
   "source": [
    "# Plots an MNIST digit.\n",
    "plt.title(\"Label is {}\".format(y_train[0]))\n",
    "plt.imshow(x_train[0], cmap=\"gray\")"
   ]
  },
  {
   "cell_type": "code",
   "execution_count": null,
   "metadata": {},
   "outputs": [],
   "source": [
    "# Preprocesses images.\n",
    "print(x_train.shape, x_test.shape)\n",
    "\n",
    "# Adds an extra dimension to the image tensor.\n",
    "# This represents the \"channels\" of the image.\n",
    "# BW images have one channel; RGB images have three.\n",
    "x_train = x_train.reshape(60000, 28, 28, 1)\n",
    "x_test = x_test.reshape(10000, 28, 28, 1)\n",
    "\n",
    "# Converts the tensors from uint8 to float32.\n",
    "# Most CNNs expect inputs of type float32.\n",
    "x_train = x_train.astype(\"float32\")\n",
    "x_test = x_test.astype(\"float32\")\n",
    "\n",
    "# Scales values to be between 0 and 1.\n",
    "x_train /= 255\n",
    "x_test /= 255\n",
    "\n",
    "print(x_train.shape, x_test.shape)"
   ]
  },
  {
   "cell_type": "code",
   "execution_count": null,
   "metadata": {},
   "outputs": [],
   "source": [
    "# Preprocesses labels.\n",
    "print(y_train.shape, y_test.shape)\n",
    "\n",
    "# Converts labels from numbers (e.g., 7)\n",
    "# to one-hot vectors (e.g., [0, 0, 0, 0, 0, 0, 0, 1, 0, 0]).\n",
    "y_train = keras.utils.to_categorical(y_train, num_classes=10)\n",
    "y_test = keras.utils.to_categorical(y_test, num_classes=10)\n",
    "\n",
    "print(y_train.shape, y_test.shape)"
   ]
  },
  {
   "cell_type": "code",
   "execution_count": null,
   "metadata": {},
   "outputs": [],
   "source": [
    "# Defines a simple CNN with two convolutional layers and two dense layers.\n",
    "# Note that this CNN uses the tf.Keras Functional API.\n",
    "def cnn():\n",
    "    inputs = keras.layers.Input(shape=x_train.shape[1:])\n",
    "    conv1 = keras.layers.Conv2D(32, 3, activation=\"relu\")(inputs)\n",
    "    conv2 = keras.layers.Conv2D(64, 3, activation=\"relu\")(conv1)\n",
    "    pool = keras.layers.MaxPool2D()(conv2)\n",
    "    drop1 = keras.layers.SpatialDropout2D(0.5)(pool)\n",
    "    flat = keras.layers.Flatten()(drop1)\n",
    "    dense = keras.layers.Dense(128, activation=\"relu\")(flat)\n",
    "    drop2 = keras.layers.Dropout(0.5)(dense)\n",
    "    softmax = keras.layers.Dense(10, activation=\"softmax\")(drop2)\n",
    "\n",
    "    model = keras.Model(inputs=inputs, outputs=softmax)\n",
    "    model.summary()\n",
    "    return model"
   ]
  },
  {
   "cell_type": "code",
   "execution_count": null,
   "metadata": {},
   "outputs": [],
   "source": [
    "# Instantiates a CNN and compiles it with the Adam optimizer, categorical_crossentropy loss, and accuracy metric.\n",
    "model = cnn()\n",
    "model.compile(optimizer=\"Adam\", loss=\"categorical_crossentropy\", metrics=[\"accuracy\"])\n",
    "\n",
    "# Fits the model for 20 epochs using the GPUs.\n",
    "model.fit(x_train, y_train, batch_size=128, epochs=20, validation_data=(x_test, y_test))"
   ]
  },
  {
   "cell_type": "code",
   "execution_count": null,
   "metadata": {},
   "outputs": [],
   "source": [
    "# Evaluates the model on the test dataset.\n",
    "score = model.evaluate(x_test, y_test, verbose=0)\n",
    "print('Test loss:', score[0])\n",
    "print('Test accuracy:', score[1])"
   ]
  }
 ],
 "metadata": {
  "kernelspec": {
   "display_name": "Python 3",
   "language": "python",
   "name": "python3"
  },
  "language_info": {
   "codemirror_mode": {
    "name": "ipython",
    "version": 3
   },
   "file_extension": ".py",
   "mimetype": "text/x-python",
   "name": "python",
   "nbconvert_exporter": "python",
   "pygments_lexer": "ipython3",
   "version": "3.7.4"
  }
 },
 "nbformat": 4,
 "nbformat_minor": 2
}
