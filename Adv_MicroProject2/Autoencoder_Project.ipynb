{
 "cells": [
  {
   "cell_type": "code",
   "execution_count": null,
   "metadata": {},
   "outputs": [],
   "source": [
    "from math import sqrt\n",
    "\n",
    "import matplotlib.pyplot as plt\n",
    "from matplotlib.offsetbox import TextArea, AnnotationBbox, OffsetImage\n",
    "import numpy as np\n",
    "import tensorflow as tf\n",
    "from tensorflow import keras\n",
    "from tensorflow.keras.layers import Input, Conv2D, Conv2DTranspose, MaxPool2D, Dense, Flatten, Reshape\n",
    "from tensorflow.keras.models import Model"
   ]
  },
  {
   "cell_type": "code",
   "execution_count": null,
   "metadata": {},
   "outputs": [],
   "source": [
    "fashion_mnist = keras.datasets.fashion_mnist\n",
    "(train_images, train_labels), (test_images, test_labels) = fashion_mnist.load_data()\n",
    "class_names = ['T-shirt/top', 'Trouser', 'Pullover', 'Dress', 'Coat',\n",
    "               'Sandal', 'Shirt', 'Sneaker', 'Bag', 'Ankle boot']"
   ]
  },
  {
   "cell_type": "code",
   "execution_count": null,
   "metadata": {},
   "outputs": [],
   "source": [
    "plt.figure(figsize=(10,10))\n",
    "for i in range(25):\n",
    "    plt.subplot(5,5,i+1)\n",
    "    plt.xticks([])\n",
    "    plt.yticks([])\n",
    "    plt.grid(False)\n",
    "    plt.imshow(train_images[i], cmap=plt.cm.binary)\n",
    "    plt.xlabel(class_names[train_labels[i]])\n",
    "plt.show()"
   ]
  },
  {
   "cell_type": "code",
   "execution_count": null,
   "metadata": {},
   "outputs": [],
   "source": [
    "# Standardize the images\n",
    "\n",
    "# Add a channel dimension of size 1\n",
    "# (We only need 1 channel because the images are black and white)\n"
   ]
  },
  {
   "cell_type": "code",
   "execution_count": null,
   "metadata": {},
   "outputs": [],
   "source": [
    "# Define the encoder CNN using the tf.Keras functional API\n",
    "# It should 2 conv/pool layers and a dense layer\n",
    "def create_encoder(input_shape, encoding_dim):\n"
   ]
  },
  {
   "cell_type": "code",
   "execution_count": null,
   "metadata": {},
   "outputs": [],
   "source": [
    "# Define the decoder CNN using the tf.Keras functional API\n",
    "# It should a reshape layer, 2 conv transpose layers, and a pixel-wise conv layer\n",
    "def create_decoder(encoding_dim):\n"
   ]
  },
  {
   "cell_type": "code",
   "execution_count": null,
   "metadata": {},
   "outputs": [],
   "source": [
    "input_shape = train_images[0].shape\n",
    "encoding_dim = 49 # Why did I pick 49?"
   ]
  },
  {
   "cell_type": "code",
   "execution_count": null,
   "metadata": {},
   "outputs": [],
   "source": [
    "# Instantiate the encoder and the decoder\n",
    "\n",
    "# Define the autoencoder architecture using the tf.Keras functional API\n",
    "# Recall that it goes input -> encoder -> decoder\n",
    "\n",
    "# Create and compile the autoencoder model\n",
    "# Which loss function? (See slides)\n"
   ]
  },
  {
   "cell_type": "code",
   "execution_count": null,
   "metadata": {},
   "outputs": [],
   "source": [
    "# Fit the model for 250 epochs (make sure you're on the GPU)\n"
   ]
  },
  {
   "cell_type": "code",
   "execution_count": null,
   "metadata": {},
   "outputs": [],
   "source": [
    "# Evaluate the model on the test set\n"
   ]
  },
  {
   "cell_type": "code",
   "execution_count": null,
   "metadata": {},
   "outputs": [],
   "source": [
    "# Predict on 5 images from the test set\n",
    "# Store the predictions in a variable called preds\n",
    "\n",
    "\n",
    "# This plots the original and reconstructed images\n",
    "plt.figure(figsize=(10,10))\n",
    "for i in range(5):\n",
    "    plt.subplot(5,5,i+1)\n",
    "    plt.xticks([])\n",
    "    plt.yticks([])\n",
    "    plt.grid(False)\n",
    "    plt.imshow(test_images[i].squeeze(), cmap=plt.cm.binary)\n",
    "    plt.xlabel(\"Original\")\n",
    "for i in range(5):\n",
    "    plt.subplot(5,5,i+6)\n",
    "    plt.xticks([])\n",
    "    plt.yticks([])\n",
    "    plt.grid(False)\n",
    "    plt.imshow(preds[i].squeeze(), cmap=plt.cm.binary)\n",
    "    plt.xlabel(\"Reconstructed\")\n",
    "plt.show()"
   ]
  },
  {
   "cell_type": "code",
   "execution_count": null,
   "metadata": {},
   "outputs": [],
   "source": [
    "# This function plots the latent space of the autoencoder\n",
    "# Note that we isolate the encoder half of the autoencoder\n",
    "# Also note that we are only plotting 2 dimensions of\n",
    "# a multidimensional space.\n",
    "def plot_latent(mode, count):\n",
    "    idx = np.random.choice(len(test_images), count)\n",
    "    inputs = test_images[idx]\n",
    "    fig, ax = plt.subplots(figsize=(10, 7))\n",
    "    ax.set_title(\"Autoencoder Latent Space\")\n",
    "    coords = encoder.predict(inputs)[:, :2]\n",
    "    \n",
    "    if mode == 'imgs':\n",
    "        for image, (x, y) in zip(inputs, coords):\n",
    "            im = OffsetImage(image.reshape(28, 28), zoom=1, cmap='gray')\n",
    "            ab = AnnotationBbox(im, (x, y), xycoords='data', frameon=False)\n",
    "            ax.add_artist(ab)\n",
    "        ax.update_datalim(coords)\n",
    "        ax.autoscale()\n",
    "    elif mode == 'dots':\n",
    "        classes = test_labels[idx]\n",
    "        plt.scatter(coords[:, 0], coords[:, 1], c=classes)\n",
    "        plt.colorbar()\n",
    "        for i in range(10):\n",
    "            class_center = np.mean(coords[classes == i], axis=0)\n",
    "            text = TextArea('{} ({})'.format(class_names[i], i))\n",
    "            ab = AnnotationBbox(text, class_center, xycoords='data', frameon=True)\n",
    "            ax.add_artist(ab)\n",
    "    plt.show()"
   ]
  },
  {
   "cell_type": "code",
   "execution_count": null,
   "metadata": {},
   "outputs": [],
   "source": [
    "# Call the plot_latent function with different modes and counts\n",
    "# What do you observe?\n"
   ]
  },
  {
   "cell_type": "code",
   "execution_count": null,
   "metadata": {},
   "outputs": [],
   "source": [
    "# Try varying the architecture to correspond with different dimensions of latent space\n",
    "# What happens as the latent space becomes larger? Is there a \"sweet spot\"?\n",
    "# In particular, try with a latent space dimension of 2 to obtain the most accurate visualization\n",
    "# And try with a larger latent space dimension to obtain a more accurate prediction.\n"
   ]
  }
 ],
 "metadata": {
  "kernelspec": {
   "display_name": "Python 3",
   "language": "python",
   "name": "python3"
  },
  "language_info": {
   "codemirror_mode": {
    "name": "ipython",
    "version": 3
   },
   "file_extension": ".py",
   "mimetype": "text/x-python",
   "name": "python",
   "nbconvert_exporter": "python",
   "pygments_lexer": "ipython3",
   "version": "3.7.4"
  }
 },
 "nbformat": 4,
 "nbformat_minor": 2
}
